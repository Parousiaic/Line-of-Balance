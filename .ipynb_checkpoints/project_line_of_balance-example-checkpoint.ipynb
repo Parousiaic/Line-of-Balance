{
 "cells": [
  {
   "cell_type": "code",
   "execution_count": null,
   "metadata": {
    "collapsed": true
   },
   "outputs": [],
   "source": [
    "from line_of_balance import *"
   ]
  },
  {
   "cell_type": "code",
   "execution_count": null,
   "metadata": {
    "collapsed": true
   },
   "outputs": [],
   "source": [
    "p = default_lob()\n",
    "\n",
    "print(p.start_end())\n",
    "print(p.start_first_to_start_last())\n",
    "print(p.activity_duration_per_unit())\n",
    "print(p.theoretical_gang_size())\n",
    "print(p.actual_gang_size())\n",
    "print(p.actual_output_rate())\n",
    "print(p.man_hours_per_unit)\n",
    "print(p.start_on_first_section())\n",
    "print(p.end_on_first_section())\n",
    "print(p.start_on_last_section())\n",
    "print(p.end_on_last_section())"
   ]
  },
  {
   "cell_type": "code",
   "execution_count": null,
   "metadata": {
    "collapsed": false
   },
   "outputs": [],
   "source": [
    "default_diagram()"
   ]
  }
 ],
 "metadata": {
  "anaconda-cloud": {},
  "kernelspec": {
   "display_name": "Python 3",
   "language": "python",
   "name": "python3"
  },
  "language_info": {
   "codemirror_mode": {
    "name": "ipython",
    "version": 3
   },
   "file_extension": ".py",
   "mimetype": "text/x-python",
   "name": "python",
   "nbconvert_exporter": "python",
   "pygments_lexer": "ipython3",
   "version": "3.6.0"
  }
 },
 "nbformat": 4,
 "nbformat_minor": 1
}
