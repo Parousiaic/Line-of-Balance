{
 "cells": [
  {
   "cell_type": "code",
   "execution_count": null,
   "metadata": {
    "collapsed": true
   },
   "outputs": [],
   "source": [
    "from line_of_balance import main\n",
    "p = main()"
   ]
  },
  {
   "cell_type": "code",
   "execution_count": null,
   "metadata": {},
   "outputs": [],
   "source": [
    "# print(p.start_on_first_section())\n",
    "# print(p.end_on_first_section())\n",
    "# print(p.start_on_last_section())\n",
    "# print(p.end_on_last_section())\n",
    "# print(p.start_first_to_start_last())\n",
    "# print(p.activity_duration_per_unit())\n",
    "# print(p.theoretical_gang_size())\n",
    "# print(p.actual_gang_size())\n",
    "# print(p.actual_output_rate())\n",
    "# print(p.man_hours_per_unit)"
   ]
  },
  {
   "cell_type": "code",
   "execution_count": null,
   "metadata": {
    "collapsed": true
   },
   "outputs": [],
   "source": [
    "a = p.start_on_first_section()\n",
    "b = p.end_on_first_section()\n",
    "c = p.start_on_last_section()\n",
    "d = p.end_on_last_section()"
   ]
  },
  {
   "cell_type": "code",
   "execution_count": null,
   "metadata": {},
   "outputs": [],
   "source": [
    "p.generate_plot_points()\n",
    "p.generate_diagram()"
   ]
  },
  {
   "cell_type": "markdown",
   "metadata": {},
   "source": [
    "**Known parameters - scalar**\n",
    "\n",
    "1. Number of sections to produce, $n$\n",
    "2. Buffer time\n",
    "3. Desired output rate, $r$\n",
    "4. Hours of work per day\n",
    "5. Days of work per week"
   ]
  },
  {
   "cell_type": "markdown",
   "metadata": {},
   "source": [
    "**Known parameters - sequence**\n",
    "1. Activity names\n",
    "2. Manhours per unit required for each activity\n",
    "3. Number of men per gang for each activity\n",
    "\n",
    "**Parameters to be calculated**\n",
    "\n",
    "1. Theoretical gang size required to complete each activity\n",
    "2. Actual gang size required for each activity.\n",
    "3. Actual output rate for each activity\n",
    "4. Duration to complete a unit of each activity (activity duration per unit)\n",
    "5. Time from start on first section to start on last section of each activity. This could also be interpreted as the time from end of first section to end of last section\n",
    "6. Time of start on first section for each activity\n",
    "7. Time of end on first section for each activity\n",
    "8. Time of start on last section for each activity\n",
    "9. Time of end on last section for each activity\n",
    "\n",
    "**Calculations**\n",
    "\n",
    "The actual gang size should be a multiple (at least 2) of the number of men per gang that is closest in value to the theoretical gang size\n",
    "\n",
    "$\n",
    "\\text{actual_output_rate} = \\text{desired_output_rate } * \\frac{\\text{actual_gang_size}}{\\text{theoretical_gang_size}}\\\\\n",
    "$\n",
    "\n",
    "$\n",
    "\\text{start_on_first_section_to_last_section} = \\text{desired_output_rate } * \\frac{(\\text{number_of_sections_to_produce } - 1) * \\text{ days_per_week}}{\\text{actual_output_rate}}\n",
    "$\n",
    "\n",
    "$\n",
    "\\text{theoretical_gang_size} = \\frac{\\text{desired_output_rate } * \\text{ man_hours_per_unit}}{\\text{hours_per_day } * \\text{ days_per_week}}\n",
    "$\n",
    "\n",
    "$\n",
    "\\text{activity_duration_per_unit} = \\frac{\\text{ man_hours_per_unit}}{\\text{men_per_gang} * \\text{ hours_per_day}}\n",
    "$\n",
    "\n",
    "**Placement of Buffer time**\n",
    "\n",
    "When drawing the bars for the different activities, compare the values of the actual output rate for each activity to determine where to place the buffer.\n",
    "\n",
    "If the actual output rate of the activity under consideration is smaller than that of the preceding activity (meaning that the activity in consideration is slower), place the buffer at the bottom of the graph, by adding it to the value of the time to finish last section of the preceding activity.\n",
    "\n",
    "Activity|man_hours_per_unit|men_per_gang|theoretical_gang_size|actual_gang_size|actual_output_rate|activity_duration_per_unit|start_on_first_section_to_last_section|start_on_first_section|end_on_first_section|start_on_last_section|end_on_last_section\n",
    ":-:|:-:|:-:|:-:|:-:|:-:|:-:|:-:|:-:|:-:|:-:|:-:|:-:|\n",
    "1|2|3|4|5|6|7|8|9|10|11|12"
   ]
  },
  {
   "cell_type": "code",
   "execution_count": null,
   "metadata": {
    "collapsed": true
   },
   "outputs": [],
   "source": []
  }
 ],
 "metadata": {
  "anaconda-cloud": {},
  "kernelspec": {
   "display_name": "Python 3",
   "language": "python",
   "name": "python3"
  },
  "language_info": {
   "codemirror_mode": {
    "name": "ipython",
    "version": 3
   },
   "file_extension": ".py",
   "mimetype": "text/x-python",
   "name": "python",
   "nbconvert_exporter": "python",
   "pygments_lexer": "ipython3",
   "version": "3.6.1"
  }
 },
 "nbformat": 4,
 "nbformat_minor": 1
}
